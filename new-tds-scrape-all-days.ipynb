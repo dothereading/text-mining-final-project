{
 "cells": [
  {
   "cell_type": "code",
   "execution_count": 3,
   "id": "cbb6c296",
   "metadata": {},
   "outputs": [],
   "source": [
    "import pandas as pd\n",
    "import numpy as np\n",
    "import requests\n",
    "from bs4 import BeautifulSoup\n",
    "import random\n",
    "import time\n",
    "from helper_functions import *\n",
    "import csv"
   ]
  },
  {
   "cell_type": "code",
   "execution_count": 4,
   "id": "35f7bea5",
   "metadata": {},
   "outputs": [],
   "source": [
    "urls = {\n",
    "    'Towards Data Science': 'https://towardsdatascience.com/archive/{0}/{1:02d}/{2:02d}'\n",
    "}"
   ]
  },
  {
   "cell_type": "code",
   "execution_count": 5,
   "id": "a8df562c",
   "metadata": {},
   "outputs": [],
   "source": [
    "all_days = range(1, 366)"
   ]
  },
  {
   "cell_type": "code",
   "execution_count": 11,
   "id": "adf6b331",
   "metadata": {},
   "outputs": [],
   "source": [
    "#IMPORTANT: This code overwrites what's in the file so only run it ONCE to create the file\n",
    "#with proper headings\n",
    "cols=['url', 'title', 'subtitle',\n",
    "    'n_sections', 'n_paragraphs', 'section_titles', 'story_text',\n",
    "    'claps', 'responses',\n",
    "    'reading_time', 'publication', 'date','year']\n",
    "\n",
    "filename = \"all_articles_2021_2022.csv\"\n",
    "\n",
    "years = [2021,2022]\n",
    "\n",
    "with open(filename, mode=\"w\") as file:\n",
    "    writer = csv.writer(file, delimiter=',', quotechar='\"', quoting=csv.QUOTE_MINIMAL)\n",
    "    writer.writerow(cols)\n",
    "                    \n",
    "file.close()  "
   ]
  },
  {
   "cell_type": "code",
   "execution_count": null,
   "id": "02d720f5",
   "metadata": {},
   "outputs": [
    {
     "name": "stdout",
     "output_type": "stream",
     "text": [
      "5 / 365 ; 2021-01-05\r"
     ]
    }
   ],
   "source": [
    "data = []\n",
    "article_id = 0\n",
    "years = years\n",
    "i = 0\n",
    "n = len(all_days)\n",
    "for year in years:\n",
    "    for d in all_days:\n",
    "        i += 1\n",
    "        month, day = convert_day(d)\n",
    "        date = '{0}-{1:02d}-{2:02d}'.format(year, month, day)\n",
    "        print(f'{i} / {n} ; {date}',end='\\r')\n",
    "        for publication, url in urls.items():\n",
    "            rand_sleep() #sleep random number of seconds\n",
    "            response = requests.get(url.format(year, month, day), allow_redirects=True)\n",
    "            if not response.url.startswith(url.format(year, month, day)):\n",
    "                continue\n",
    "            page = response.content\n",
    "            soup = BeautifulSoup(page, 'html.parser')\n",
    "            articles = soup.find_all(\n",
    "                \"div\",\n",
    "                class_=\"postArticle postArticle--short js-postArticle js-trackPostPresentation js-trackPostScrolls\")\n",
    "            for article in articles:\n",
    "                title = article.find(\"h3\", class_=\"graf--title\")\n",
    "                if title is None:\n",
    "                    continue\n",
    "                title = title.contents[0]\n",
    "                article_id += 1\n",
    "                subtitle = article.find(\"h4\", class_=\"graf--subtitle\")\n",
    "                subtitle = subtitle.contents[0] if subtitle is not None else ''\n",
    "                #image = article.find(\"img\", class_=\"graf-image\")\n",
    "                #image = '' if image is None else get_img(image['src'], 'images', f'{article_id}')\n",
    "                article_url = article.find_all(\"a\")[3]['href'].split('?')[0]\n",
    "                number_sections, number_paragraphs, section_titles, story_text = get_article_text(article_url)\n",
    "                buttons = article.find_all(\"button\")\n",
    "                claps = get_claps(buttons[1].contents[0]) if len(buttons) > 0 else None\n",
    "                reading_time = article.find(\"span\", class_=\"readingTime\")\n",
    "                reading_time = 0 if reading_time is None else int(reading_time['title'].split(' ')[0])\n",
    "                responses = article.find_all(\"a\")\n",
    "                if len(responses) == 7:\n",
    "                    responses = responses[6].contents[0].split(' ')\n",
    "                    if len(responses) == 0:\n",
    "                        responses = 0\n",
    "                    else:\n",
    "                        responses = responses[0]\n",
    "                else:\n",
    "                    responses = 0\n",
    "\n",
    "                info = [article_url, title, subtitle,\\\n",
    "                             number_sections, number_paragraphs, section_titles, story_text,\\\n",
    "                             claps, responses,\\\n",
    "                             reading_time, publication, date,year]\n",
    "                \n",
    "                with open(filename, mode=\"a\") as file:\n",
    "                    writer = csv.writer(file, delimiter=',', quotechar='\"', quoting=csv.QUOTE_MINIMAL)\n",
    "                    writer.writerow(info)\n",
    "                    \n",
    "                file.close()    \n"
   ]
  },
  {
   "cell_type": "code",
   "execution_count": null,
   "id": "946957f4",
   "metadata": {},
   "outputs": [],
   "source": []
  }
 ],
 "metadata": {
  "kernelspec": {
   "display_name": "Python 3 (ipykernel)",
   "language": "python",
   "name": "python3"
  },
  "language_info": {
   "codemirror_mode": {
    "name": "ipython",
    "version": 3
   },
   "file_extension": ".py",
   "mimetype": "text/x-python",
   "name": "python",
   "nbconvert_exporter": "python",
   "pygments_lexer": "ipython3",
   "version": "3.9.7"
  }
 },
 "nbformat": 4,
 "nbformat_minor": 5
}
